{
 "cells": [
  {
   "cell_type": "code",
   "execution_count": null,
   "metadata": {},
   "outputs": [],
   "source": [
    "# Re-loading and preprocessing the dataset as per the notebook's initial steps\n",
    "import pandas as pd\n",
    "\n",
    "# Load the first dataset\n",
    "data_path = '/mnt/data/GSE218462_raw_counts_GRCh38.p13_NCBI.tsv'\n",
    "df = pd.read_csv(data_path, sep='\\t').T\n",
    "\n",
    "# Set the column headers and remove the first row used for headers\n",
    "df.columns = df.iloc[0]\n",
    "df = df[1:]\n",
    "\n",
    "# Convert all data to numeric for PCA analysis\n",
    "df = df.apply(pd.to_numeric, errors='coerce').fillna(0)\n",
    "\n",
    "# Standardize the data as done in the initial notebook\n",
    "from sklearn.preprocessing import StandardScaler\n",
    "\n",
    "scaler = StandardScaler()\n",
    "scaled_data = scaler.fit_transform(df)\n",
    "scaled_df = pd.DataFrame(scaled_data, columns=df.columns, index=df.index)\n",
    "\n",
    "# Define the 'edited' vs 'unedited' label and add to DataFrame based on initial notebook setup\n",
    "unedited = ['GSM6745632', 'GSM6745633', 'GSM6745634', 'GSM6745635', 'GSM6745636', 'GSM6745637']\n",
    "scaled_df['Edited'] = scaled_df.index.map(lambda sample: 0 if sample in unedited else 1)\n",
    "\n",
    "# Perform PCA as per notebook steps\n",
    "from sklearn.decomposition import PCA\n",
    "\n",
    "# Remove the label column for PCA computation\n",
    "pca_df = scaled_df.drop(columns=['Edited'])\n",
    "\n",
    "# Initialize PCA with a sufficient number of components\n",
    "pca = PCA()\n",
    "pca_result = pca.fit_transform(pca_df)\n",
    "\n",
    "# Compute explained variance ratio\n",
    "explained_variance_ratio = pca.explained_variance_ratio_\n",
    "cumulative_variance_ratio = explained_variance_ratio.cumsum()\n",
    "\n",
    "# Collect PCA results in a DataFrame\n",
    "principalDf = pd.DataFrame(data=pca_result, columns=[f'PC{i+1}' for i in range(pca_result.shape[1])])\n",
    "principalDf['Edited'] = scaled_df['Edited'].values\n",
    "\n",
    "# Display first few rows and explained variance summary to continue with plotting and further analysis\n",
    "principalDf.head(), cumulative_variance_ratio[:10]"
   ]
  }
 ],
 "metadata": {
  "language_info": {
   "name": "python"
  }
 },
 "nbformat": 4,
 "nbformat_minor": 2
}

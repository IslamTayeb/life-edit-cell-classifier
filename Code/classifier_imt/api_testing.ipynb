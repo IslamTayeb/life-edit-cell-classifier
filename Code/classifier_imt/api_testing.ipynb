{
 "cells": [
  {
   "cell_type": "code",
   "execution_count": 6,
   "metadata": {},
   "outputs": [
    {
     "name": "stderr",
     "output_type": "stream",
     "text": [
      "/var/folders/n1/ddw6p35j0310zh6cql00y29r0000gn/T/ipykernel_2023/3007650290.py:6: DtypeWarning: Columns (8,9) have mixed types. Specify dtype option on import or set low_memory=False.\n",
      "  annotation_df = pd.read_csv(annotation_path, sep=\"\\t\")\n"
     ]
    },
    {
     "ename": "FileNotFoundError",
     "evalue": "[Errno 2] No such file or directory: 'Hs.data'",
     "output_type": "error",
     "traceback": [
      "\u001b[0;31m---------------------------------------------------------------------------\u001b[0m",
      "\u001b[0;31mFileNotFoundError\u001b[0m                         Traceback (most recent call last)",
      "Cell \u001b[0;32mIn[6], line 43\u001b[0m\n\u001b[1;32m     41\u001b[0m metadata_list \u001b[38;5;241m=\u001b[39m []\n\u001b[1;32m     42\u001b[0m \u001b[38;5;28;01mfor\u001b[39;00m gene_id \u001b[38;5;129;01min\u001b[39;00m annotation_df[\u001b[38;5;124m\"\u001b[39m\u001b[38;5;124mGeneID\u001b[39m\u001b[38;5;124m\"\u001b[39m]:\n\u001b[0;32m---> 43\u001b[0m     metadata \u001b[38;5;241m=\u001b[39m fetch_gene_metadata(gene_id)\n\u001b[1;32m     44\u001b[0m     \u001b[38;5;28;01mif\u001b[39;00m metadata:\n\u001b[1;32m     45\u001b[0m         metadata_list\u001b[38;5;241m.\u001b[39mappend(metadata)\n",
      "Cell \u001b[0;32mIn[6], line 15\u001b[0m, in \u001b[0;36mfetch_gene_metadata\u001b[0;34m(gene_id)\u001b[0m\n\u001b[1;32m     12\u001b[0m unigene_file_path \u001b[38;5;241m=\u001b[39m \u001b[38;5;124m'\u001b[39m\u001b[38;5;124mHs.data\u001b[39m\u001b[38;5;124m'\u001b[39m\n\u001b[1;32m     14\u001b[0m \u001b[38;5;66;03m# Parse the UniGene file to find matching records\u001b[39;00m\n\u001b[0;32m---> 15\u001b[0m \u001b[38;5;28;01mwith\u001b[39;00m \u001b[38;5;28mopen\u001b[39m(unigene_file_path, \u001b[38;5;124m'\u001b[39m\u001b[38;5;124mr\u001b[39m\u001b[38;5;124m'\u001b[39m) \u001b[38;5;28;01mas\u001b[39;00m handle:\n\u001b[1;32m     16\u001b[0m     \u001b[38;5;28;01mfor\u001b[39;00m record \u001b[38;5;129;01min\u001b[39;00m UniGene\u001b[38;5;241m.\u001b[39mparse(handle):\n\u001b[1;32m     17\u001b[0m         \u001b[38;5;28;01mif\u001b[39;00m record\u001b[38;5;241m.\u001b[39mgene_id \u001b[38;5;241m==\u001b[39m \u001b[38;5;28mstr\u001b[39m(gene_id):\n",
      "File \u001b[0;32m/opt/anaconda3/lib/python3.12/site-packages/IPython/core/interactiveshell.py:324\u001b[0m, in \u001b[0;36m_modified_open\u001b[0;34m(file, *args, **kwargs)\u001b[0m\n\u001b[1;32m    317\u001b[0m \u001b[38;5;28;01mif\u001b[39;00m file \u001b[38;5;129;01min\u001b[39;00m {\u001b[38;5;241m0\u001b[39m, \u001b[38;5;241m1\u001b[39m, \u001b[38;5;241m2\u001b[39m}:\n\u001b[1;32m    318\u001b[0m     \u001b[38;5;28;01mraise\u001b[39;00m \u001b[38;5;167;01mValueError\u001b[39;00m(\n\u001b[1;32m    319\u001b[0m         \u001b[38;5;124mf\u001b[39m\u001b[38;5;124m\"\u001b[39m\u001b[38;5;124mIPython won\u001b[39m\u001b[38;5;124m'\u001b[39m\u001b[38;5;124mt let you open fd=\u001b[39m\u001b[38;5;132;01m{\u001b[39;00mfile\u001b[38;5;132;01m}\u001b[39;00m\u001b[38;5;124m by default \u001b[39m\u001b[38;5;124m\"\u001b[39m\n\u001b[1;32m    320\u001b[0m         \u001b[38;5;124m\"\u001b[39m\u001b[38;5;124mas it is likely to crash IPython. If you know what you are doing, \u001b[39m\u001b[38;5;124m\"\u001b[39m\n\u001b[1;32m    321\u001b[0m         \u001b[38;5;124m\"\u001b[39m\u001b[38;5;124myou can use builtins\u001b[39m\u001b[38;5;124m'\u001b[39m\u001b[38;5;124m open.\u001b[39m\u001b[38;5;124m\"\u001b[39m\n\u001b[1;32m    322\u001b[0m     )\n\u001b[0;32m--> 324\u001b[0m \u001b[38;5;28;01mreturn\u001b[39;00m io_open(file, \u001b[38;5;241m*\u001b[39margs, \u001b[38;5;241m*\u001b[39m\u001b[38;5;241m*\u001b[39mkwargs)\n",
      "\u001b[0;31mFileNotFoundError\u001b[0m: [Errno 2] No such file or directory: 'Hs.data'"
     ]
    }
   ],
   "source": [
    "import requests\n",
    "import pandas as pd\n",
    "\n",
    "# File paths\n",
    "gene_expression_file = '../../data/GSE218462_raw_counts_GRCh38.p13_NCBI.tsv'\n",
    "annotation_file = '../../data/Human.GRCh38.p13.annot.tsv'\n",
    "\n",
    "# Load gene expression data and extract unique gene IDs\n",
    "def load_gene_ids(file_path):\n",
    "    gene_df = pd.read_csv(file_path, sep='\\t')\n",
    "    gene_ids = gene_df['GeneID'].unique().tolist()\n",
    "    return gene_ids\n",
    "\n",
    "# Query NCBI API to get metadata for a list of gene IDs\n",
    "def fetch_gene_metadata(gene_ids, batch_size=50):\n",
    "    base_url = 'https://api.ncbi.nlm.nih.gov/datasets/v2/gene/id/'\n",
    "    gene_metadata = {}\n",
    "\n",
    "    for i in range(0, len(gene_ids), batch_size):\n",
    "        batch = gene_ids[i:i + batch_size]\n",
    "        query_ids = ','.join(map(str, batch))\n",
    "        url = f\"{base_url}{query_ids}\"\n",
    "\n",
    "        response = requests.get(url)\n",
    "        if response.status_code == 200:\n",
    "            data = response.json()\n",
    "            for gene in data.get('genes', []):\n",
    "                gene_metadata[gene['gene_id']] = gene  # Store full metadata for each gene ID\n",
    "        else:\n",
    "            print(f\"Failed to fetch metadata for gene IDs: {batch}\")\n",
    "\n",
    "    return gene_metadata\n",
    "\n",
    "# Load annotation data\n",
    "def load_annotations(file_path):\n",
    "    annot_df = pd.read_csv(file_path, sep='\\t')\n",
    "    return annot_df\n",
    "\n",
    "# Main function to combine and save metadata\n",
    "def main():\n",
    "    # Load gene IDs from gene expression data\n",
    "    gene_ids = load_gene_ids(gene_expression_file)\n",
    "    print(f\"Loaded {len(gene_ids)} unique gene IDs.\")\n",
    "\n",
    "    # Fetch metadata for gene IDs from NCBI\n",
    "    gene_metadata = fetch_gene_metadata(gene_ids)\n",
    "    print(f\"Fetched metadata for {len(gene_metadata)} genes.\")\n",
    "\n",
    "    # Load annotation data\n",
    "    annot_df = load_annotations(annotation_file)\n",
    "\n",
    "    # Process and merge metadata\n",
    "    metadata_records = []\n",
    "    for gene_id, metadata in gene_metadata.items():\n",
    "        annot_row = annot_df[annot_df['GeneID'] == gene_id]\n",
    "        if not annot_row.empty:\n",
    "            record = {\n",
    "                'GeneID': gene_id,\n",
    "                'Symbol': metadata.get('symbol', 'N/A'),\n",
    "                'Description': metadata.get('description', 'N/A'),\n",
    "                'Chromosome': metadata.get('chromosome', 'N/A'),\n",
    "                'Annotation': annot_row.iloc[0].to_dict()  # Annotation details\n",
    "            }\n",
    "            metadata_records.append(record)\n",
    "\n",
    "    # Convert to DataFrame and save\n",
    "    output_df = pd.DataFrame(metadata_records)\n",
    "    output_df.to_csv('gene_metadata_with_annotations.csv', index=False)\n",
    "    print(\"Metadata with annotations saved to 'gene_metadata_with_annotations.csv'.\")\n",
    "\n",
    "if __name__ == \"__main__\":\n",
    "    main()"
   ]
  },
  {
   "cell_type": "code",
   "execution_count": 2,
   "metadata": {},
   "outputs": [
    {
     "name": "stdout",
     "output_type": "stream",
     "text": [
      "      GeneID       Symbol                                 Description  \\\n",
      "0  100287102      DDX11L1  DEAD/H-box helicase 11 like 1 (pseudogene)   \n",
      "1     653635       WASH7P           WASP family homolog 7, pseudogene   \n",
      "2  102466751    MIR6859-1                             microRNA 6859-1   \n",
      "3  107985730  MIR1302-2HG                         MIR1302-2 host gene   \n",
      "4  100302278    MIR1302-2                             microRNA 1302-2   \n",
      "\n",
      "                    Synonyms GeneType    EnsemblGeneID  Status        ChrAcc  \\\n",
      "0                        NaN   pseudo  ENSG00000290825  active  NC_000001.11   \n",
      "1              FAM39F|WASH5P   pseudo              NaN  active  NC_000001.11   \n",
      "2             hsa-mir-6859-1    ncRNA  ENSG00000278267  active  NC_000001.11   \n",
      "3                        NaN    ncRNA              NaN  active  NC_000001.11   \n",
      "4  MIRN1302-2|hsa-mir-1302-2    ncRNA  ENSG00000284332  active  NC_000001.11   \n",
      "\n",
      "  ChrStart ChrStop Orientation  Length GOFunctionID GOProcessID GOComponentID  \\\n",
      "0    11874   14409    positive    1652          NaN         NaN           NaN   \n",
      "1    14362   29370    negative    1769          NaN         NaN           NaN   \n",
      "2    17369   17436    negative      68          NaN         NaN           NaN   \n",
      "3    29926   31295    positive     538          NaN         NaN           NaN   \n",
      "4    30366   30503    positive     138          NaN  GO:0035195           NaN   \n",
      "\n",
      "  GOFunction                      GOProcess GOComponent  \n",
      "0        NaN                            NaN         NaN  \n",
      "1        NaN                            NaN         NaN  \n",
      "2        NaN                            NaN         NaN  \n",
      "3        NaN                            NaN         NaN  \n",
      "4        NaN  miRNA-mediated gene silencing         NaN  \n",
      "             GeneID         Length\n",
      "count  3.937600e+04   39376.000000\n",
      "mean   4.441428e+07    3304.614867\n",
      "std    5.159676e+07    3624.228296\n",
      "min    1.000000e+00       8.000000\n",
      "25%    2.878250e+04     905.750000\n",
      "50%    3.764545e+05    2240.000000\n",
      "75%    1.053697e+08    4458.000000\n",
      "max    1.156947e+08  116922.000000\n"
     ]
    },
    {
     "name": "stderr",
     "output_type": "stream",
     "text": [
      "/var/folders/n1/ddw6p35j0310zh6cql00y29r0000gn/T/ipykernel_2023/2682202097.py:3: DtypeWarning: Columns (8,9) have mixed types. Specify dtype option on import or set low_memory=False.\n",
      "  tsv_df = pd.read_csv(tsv_file_path, sep='\\t')\n"
     ]
    }
   ],
   "source": [
    "# Read the TSV file into a DataFrame\n",
    "tsv_file_path = '../../lifeedit_data/Human.GRCh38.p13.annot.tsv'  # Replace with the actual path to your TSV file\n",
    "tsv_df = pd.read_csv(tsv_file_path, sep='\\t')\n",
    "\n",
    "# Display the first few rows of the DataFrame\n",
    "print(tsv_df.head())\n",
    "\n",
    "# Display the summary statistics of the DataFrame\n",
    "print(tsv_df.describe())"
   ]
  }
 ],
 "metadata": {
  "kernelspec": {
   "display_name": "base",
   "language": "python",
   "name": "python3"
  },
  "language_info": {
   "codemirror_mode": {
    "name": "ipython",
    "version": 3
   },
   "file_extension": ".py",
   "mimetype": "text/x-python",
   "name": "python",
   "nbconvert_exporter": "python",
   "pygments_lexer": "ipython3",
   "version": "3.12.2"
  }
 },
 "nbformat": 4,
 "nbformat_minor": 2
}
